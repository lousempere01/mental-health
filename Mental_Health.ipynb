{
 "cells": [
  {
   "cell_type": "markdown",
   "id": "a34bb4ac-b02d-40de-b9fa-676174dba096",
   "metadata": {},
   "source": [
    "# Projet Mental Health & Technology Usage"
   ]
  },
  {
   "cell_type": "markdown",
   "id": "93f52f8b-2997-4f68-8767-36583962bdf8",
   "metadata": {},
   "source": [
    "## Importation des modules"
   ]
  },
  {
   "cell_type": "code",
   "execution_count": 3,
   "id": "e639e504-5cbe-4e0f-a643-46437d8c34b2",
   "metadata": {},
   "outputs": [],
   "source": [
    "import pandas as pd \n",
    "import numpy as np\n",
    "import matplotlib.pyplot as plt"
   ]
  },
  {
   "cell_type": "markdown",
   "id": "aaaebe15-ce51-458b-a417-91606685ef92",
   "metadata": {},
   "source": [
    "## Chargement des données\n",
    "Les données sont dans un tableau au format CSV"
   ]
  },
  {
   "cell_type": "code",
   "execution_count": 25,
   "id": "b67edeec-d5f0-4bf2-81b9-809dffe7e398",
   "metadata": {},
   "outputs": [],
   "source": [
    "donnees = pd.read_csv(\"mental_health_and_technology_usage_2024.csv\",sep=\",\")"
   ]
  },
  {
   "cell_type": "code",
   "execution_count": 113,
   "id": "74679bcc-96c2-4b9b-a20e-d235c4e47fb5",
   "metadata": {},
   "outputs": [
    {
     "data": {
      "text/html": [
       "<div>\n",
       "<style scoped>\n",
       "    .dataframe tbody tr th:only-of-type {\n",
       "        vertical-align: middle;\n",
       "    }\n",
       "\n",
       "    .dataframe tbody tr th {\n",
       "        vertical-align: top;\n",
       "    }\n",
       "\n",
       "    .dataframe thead th {\n",
       "        text-align: right;\n",
       "    }\n",
       "</style>\n",
       "<table border=\"1\" class=\"dataframe\">\n",
       "  <thead>\n",
       "    <tr style=\"text-align: right;\">\n",
       "      <th></th>\n",
       "      <th>User_ID</th>\n",
       "      <th>Age</th>\n",
       "      <th>Gender</th>\n",
       "      <th>Technology_Usage_Hours</th>\n",
       "      <th>Social_Media_Usage_Hours</th>\n",
       "      <th>Gaming_Hours</th>\n",
       "      <th>Screen_Time_Hours</th>\n",
       "      <th>Mental_Health_Status</th>\n",
       "      <th>Stress_Level</th>\n",
       "      <th>Sleep_Hours</th>\n",
       "      <th>Physical_Activity_Hours</th>\n",
       "      <th>Support_Systems_Access</th>\n",
       "      <th>Work_Environment_Impact</th>\n",
       "      <th>Online_Support_Usage</th>\n",
       "      <th>Group_Age</th>\n",
       "    </tr>\n",
       "  </thead>\n",
       "  <tbody>\n",
       "    <tr>\n",
       "      <th>0</th>\n",
       "      <td>USER-00001</td>\n",
       "      <td>23</td>\n",
       "      <td>Female</td>\n",
       "      <td>6.57</td>\n",
       "      <td>6.00</td>\n",
       "      <td>0.68</td>\n",
       "      <td>12.36</td>\n",
       "      <td>Good</td>\n",
       "      <td>Low</td>\n",
       "      <td>8.01</td>\n",
       "      <td>6.71</td>\n",
       "      <td>No</td>\n",
       "      <td>Negative</td>\n",
       "      <td>Yes</td>\n",
       "      <td>18-29 ans</td>\n",
       "    </tr>\n",
       "    <tr>\n",
       "      <th>1</th>\n",
       "      <td>USER-00002</td>\n",
       "      <td>21</td>\n",
       "      <td>Male</td>\n",
       "      <td>3.01</td>\n",
       "      <td>2.57</td>\n",
       "      <td>3.74</td>\n",
       "      <td>7.61</td>\n",
       "      <td>Poor</td>\n",
       "      <td>High</td>\n",
       "      <td>7.28</td>\n",
       "      <td>5.88</td>\n",
       "      <td>Yes</td>\n",
       "      <td>Positive</td>\n",
       "      <td>No</td>\n",
       "      <td>18-29 ans</td>\n",
       "    </tr>\n",
       "    <tr>\n",
       "      <th>2</th>\n",
       "      <td>USER-00003</td>\n",
       "      <td>51</td>\n",
       "      <td>Male</td>\n",
       "      <td>3.04</td>\n",
       "      <td>6.14</td>\n",
       "      <td>1.26</td>\n",
       "      <td>3.16</td>\n",
       "      <td>Fair</td>\n",
       "      <td>High</td>\n",
       "      <td>8.04</td>\n",
       "      <td>9.81</td>\n",
       "      <td>No</td>\n",
       "      <td>Negative</td>\n",
       "      <td>No</td>\n",
       "      <td>50-59 ans</td>\n",
       "    </tr>\n",
       "    <tr>\n",
       "      <th>3</th>\n",
       "      <td>USER-00004</td>\n",
       "      <td>25</td>\n",
       "      <td>Female</td>\n",
       "      <td>3.84</td>\n",
       "      <td>4.48</td>\n",
       "      <td>2.59</td>\n",
       "      <td>13.08</td>\n",
       "      <td>Excellent</td>\n",
       "      <td>Medium</td>\n",
       "      <td>5.62</td>\n",
       "      <td>5.28</td>\n",
       "      <td>Yes</td>\n",
       "      <td>Negative</td>\n",
       "      <td>Yes</td>\n",
       "      <td>18-29 ans</td>\n",
       "    </tr>\n",
       "    <tr>\n",
       "      <th>4</th>\n",
       "      <td>USER-00005</td>\n",
       "      <td>53</td>\n",
       "      <td>Male</td>\n",
       "      <td>1.20</td>\n",
       "      <td>0.56</td>\n",
       "      <td>0.29</td>\n",
       "      <td>12.63</td>\n",
       "      <td>Good</td>\n",
       "      <td>Low</td>\n",
       "      <td>5.55</td>\n",
       "      <td>4.00</td>\n",
       "      <td>No</td>\n",
       "      <td>Positive</td>\n",
       "      <td>Yes</td>\n",
       "      <td>50-59 ans</td>\n",
       "    </tr>\n",
       "  </tbody>\n",
       "</table>\n",
       "</div>"
      ],
      "text/plain": [
       "      User_ID  Age  Gender  Technology_Usage_Hours  Social_Media_Usage_Hours  \\\n",
       "0  USER-00001   23  Female                    6.57                      6.00   \n",
       "1  USER-00002   21    Male                    3.01                      2.57   \n",
       "2  USER-00003   51    Male                    3.04                      6.14   \n",
       "3  USER-00004   25  Female                    3.84                      4.48   \n",
       "4  USER-00005   53    Male                    1.20                      0.56   \n",
       "\n",
       "   Gaming_Hours  Screen_Time_Hours Mental_Health_Status Stress_Level  \\\n",
       "0          0.68              12.36                 Good          Low   \n",
       "1          3.74               7.61                 Poor         High   \n",
       "2          1.26               3.16                 Fair         High   \n",
       "3          2.59              13.08            Excellent       Medium   \n",
       "4          0.29              12.63                 Good          Low   \n",
       "\n",
       "   Sleep_Hours  Physical_Activity_Hours Support_Systems_Access  \\\n",
       "0         8.01                     6.71                     No   \n",
       "1         7.28                     5.88                    Yes   \n",
       "2         8.04                     9.81                     No   \n",
       "3         5.62                     5.28                    Yes   \n",
       "4         5.55                     4.00                     No   \n",
       "\n",
       "  Work_Environment_Impact Online_Support_Usage  Group_Age  \n",
       "0                Negative                  Yes  18-29 ans  \n",
       "1                Positive                   No  18-29 ans  \n",
       "2                Negative                   No  50-59 ans  \n",
       "3                Negative                  Yes  18-29 ans  \n",
       "4                Positive                  Yes  50-59 ans  "
      ]
     },
     "execution_count": 113,
     "metadata": {},
     "output_type": "execute_result"
    }
   ],
   "source": [
    "donnees.head(5)"
   ]
  },
  {
   "cell_type": "code",
   "execution_count": 29,
   "id": "bb23851c-b14b-47c9-aa50-314f26d4fe6b",
   "metadata": {},
   "outputs": [
    {
     "data": {
      "text/html": [
       "<div>\n",
       "<style scoped>\n",
       "    .dataframe tbody tr th:only-of-type {\n",
       "        vertical-align: middle;\n",
       "    }\n",
       "\n",
       "    .dataframe tbody tr th {\n",
       "        vertical-align: top;\n",
       "    }\n",
       "\n",
       "    .dataframe thead th {\n",
       "        text-align: right;\n",
       "    }\n",
       "</style>\n",
       "<table border=\"1\" class=\"dataframe\">\n",
       "  <thead>\n",
       "    <tr style=\"text-align: right;\">\n",
       "      <th></th>\n",
       "      <th>Age</th>\n",
       "      <th>Technology_Usage_Hours</th>\n",
       "      <th>Social_Media_Usage_Hours</th>\n",
       "      <th>Gaming_Hours</th>\n",
       "      <th>Screen_Time_Hours</th>\n",
       "      <th>Sleep_Hours</th>\n",
       "      <th>Physical_Activity_Hours</th>\n",
       "    </tr>\n",
       "  </thead>\n",
       "  <tbody>\n",
       "    <tr>\n",
       "      <th>count</th>\n",
       "      <td>10000.000000</td>\n",
       "      <td>10000.000000</td>\n",
       "      <td>10000.000000</td>\n",
       "      <td>10000.000000</td>\n",
       "      <td>10000.000000</td>\n",
       "      <td>10000.000000</td>\n",
       "      <td>10000.000000</td>\n",
       "    </tr>\n",
       "    <tr>\n",
       "      <th>mean</th>\n",
       "      <td>41.518600</td>\n",
       "      <td>6.474341</td>\n",
       "      <td>3.972321</td>\n",
       "      <td>2.515598</td>\n",
       "      <td>7.975765</td>\n",
       "      <td>6.500724</td>\n",
       "      <td>5.003860</td>\n",
       "    </tr>\n",
       "    <tr>\n",
       "      <th>std</th>\n",
       "      <td>13.920217</td>\n",
       "      <td>3.169022</td>\n",
       "      <td>2.313707</td>\n",
       "      <td>1.446748</td>\n",
       "      <td>4.042608</td>\n",
       "      <td>1.450933</td>\n",
       "      <td>2.905044</td>\n",
       "    </tr>\n",
       "    <tr>\n",
       "      <th>min</th>\n",
       "      <td>18.000000</td>\n",
       "      <td>1.000000</td>\n",
       "      <td>0.000000</td>\n",
       "      <td>0.000000</td>\n",
       "      <td>1.000000</td>\n",
       "      <td>4.000000</td>\n",
       "      <td>0.000000</td>\n",
       "    </tr>\n",
       "    <tr>\n",
       "      <th>25%</th>\n",
       "      <td>29.000000</td>\n",
       "      <td>3.760000</td>\n",
       "      <td>1.980000</td>\n",
       "      <td>1.260000</td>\n",
       "      <td>4.520000</td>\n",
       "      <td>5.260000</td>\n",
       "      <td>2.490000</td>\n",
       "    </tr>\n",
       "    <tr>\n",
       "      <th>50%</th>\n",
       "      <td>42.000000</td>\n",
       "      <td>6.425000</td>\n",
       "      <td>3.950000</td>\n",
       "      <td>2.520000</td>\n",
       "      <td>7.900000</td>\n",
       "      <td>6.500000</td>\n",
       "      <td>4.990000</td>\n",
       "    </tr>\n",
       "    <tr>\n",
       "      <th>75%</th>\n",
       "      <td>54.000000</td>\n",
       "      <td>9.212500</td>\n",
       "      <td>5.990000</td>\n",
       "      <td>3.790000</td>\n",
       "      <td>11.500000</td>\n",
       "      <td>7.760000</td>\n",
       "      <td>7.540000</td>\n",
       "    </tr>\n",
       "    <tr>\n",
       "      <th>max</th>\n",
       "      <td>65.000000</td>\n",
       "      <td>12.000000</td>\n",
       "      <td>8.000000</td>\n",
       "      <td>5.000000</td>\n",
       "      <td>15.000000</td>\n",
       "      <td>9.000000</td>\n",
       "      <td>10.000000</td>\n",
       "    </tr>\n",
       "  </tbody>\n",
       "</table>\n",
       "</div>"
      ],
      "text/plain": [
       "                Age  Technology_Usage_Hours  Social_Media_Usage_Hours  \\\n",
       "count  10000.000000            10000.000000              10000.000000   \n",
       "mean      41.518600                6.474341                  3.972321   \n",
       "std       13.920217                3.169022                  2.313707   \n",
       "min       18.000000                1.000000                  0.000000   \n",
       "25%       29.000000                3.760000                  1.980000   \n",
       "50%       42.000000                6.425000                  3.950000   \n",
       "75%       54.000000                9.212500                  5.990000   \n",
       "max       65.000000               12.000000                  8.000000   \n",
       "\n",
       "       Gaming_Hours  Screen_Time_Hours   Sleep_Hours  Physical_Activity_Hours  \n",
       "count  10000.000000       10000.000000  10000.000000             10000.000000  \n",
       "mean       2.515598           7.975765      6.500724                 5.003860  \n",
       "std        1.446748           4.042608      1.450933                 2.905044  \n",
       "min        0.000000           1.000000      4.000000                 0.000000  \n",
       "25%        1.260000           4.520000      5.260000                 2.490000  \n",
       "50%        2.520000           7.900000      6.500000                 4.990000  \n",
       "75%        3.790000          11.500000      7.760000                 7.540000  \n",
       "max        5.000000          15.000000      9.000000                10.000000  "
      ]
     },
     "execution_count": 29,
     "metadata": {},
     "output_type": "execute_result"
    }
   ],
   "source": [
    "donnees.describe()"
   ]
  },
  {
   "cell_type": "markdown",
   "id": "e5a3ad27-590a-4566-8fef-cfb3899f4ce2",
   "metadata": {},
   "source": [
    "On remarque qu'il n'y a pas de données manquantes."
   ]
  },
  {
   "cell_type": "markdown",
   "id": "299b1f5f-1ccc-46e2-bf38-645c75732bf9",
   "metadata": {},
   "source": [
    "## Problématique \n",
    "### Dans quelles mesures l'utilisation des nouvelles technologies pertube-t-elle le sommeil et favorise-t-elle le stress ? "
   ]
  },
  {
   "cell_type": "markdown",
   "id": "fac169c5-d337-44b5-9372-97a8a7e6baa7",
   "metadata": {},
   "source": [
    "On va commencer par **observer nos données**, en répondant aux questions suivantes :"
   ]
  },
  {
   "cell_type": "markdown",
   "id": "dd3a5543-3e30-4e38-a5d7-da41f473bc51",
   "metadata": {},
   "source": [
    "    1. Quels sont les personnes les plus touchés par la perturbation du sommeil et par le stress ? \n",
    "    2. Y'a t'il une corrélation entre le temps passé sur les écrans et le temps de sommeil ? \n",
    "    3. L'activité physique a-telle un impact sur la santé mentale ? "
   ]
  },
  {
   "cell_type": "markdown",
   "id": "45defe26-3554-4052-8c4f-cc0e802ff1fe",
   "metadata": {},
   "source": [
    "### Quels sont les personnes les plus touchés par la perturbation du sommeil et par le stress ? "
   ]
  },
  {
   "cell_type": "markdown",
   "id": "87343a36-fd32-4ff0-8c39-c9a248e8dce6",
   "metadata": {},
   "source": [
    "On va les regrouper par tranches d'age pour faciliter notre analyse"
   ]
  },
  {
   "cell_type": "code",
   "execution_count": 35,
   "id": "06780254-518a-4208-a567-dcbaa9d3e54c",
   "metadata": {},
   "outputs": [],
   "source": [
    "donnees['Group_Age'] = pd.cut(donnees['Age'], \n",
    "                               bins=[17, 30, 40, 50, 60, 67],\n",
    "                               labels=['18-29 ans', '30-39 ans', '40-49 ans', '50-59 ans', '60 ans et +'])"
   ]
  },
  {
   "cell_type": "code",
   "execution_count": 37,
   "id": "f1a7e663-b96f-4c89-b507-1044e46f182c",
   "metadata": {},
   "outputs": [
    {
     "data": {
      "text/plain": [
       "Group_Age\n",
       "18-29 ans      2723\n",
       "30-39 ans      2068\n",
       "40-49 ans      2079\n",
       "50-59 ans      2053\n",
       "60 ans et +    1077\n",
       "Name: User_ID, dtype: int64"
      ]
     },
     "execution_count": 37,
     "metadata": {},
     "output_type": "execute_result"
    }
   ],
   "source": [
    "nb_personnes = donnees.groupby('Group_Age', observed=False)['User_ID'].count()\n",
    "nb_personnes"
   ]
  },
  {
   "cell_type": "code",
   "execution_count": 39,
   "id": "e3fba6e8-efe6-4e23-9a75-08adf24f380a",
   "metadata": {},
   "outputs": [
    {
     "data": {
      "text/plain": [
       "Stress_Level\n",
       "High      3330\n",
       "Low       3332\n",
       "Medium    3338\n",
       "Name: User_ID, dtype: int64"
      ]
     },
     "execution_count": 39,
     "metadata": {},
     "output_type": "execute_result"
    }
   ],
   "source": [
    "stress = donnees.groupby('Stress_Level')['User_ID'].count()\n",
    "stress"
   ]
  },
  {
   "cell_type": "code",
   "execution_count": 41,
   "id": "0f089394-1754-46d9-826f-62638b821c6b",
   "metadata": {},
   "outputs": [
    {
     "data": {
      "text/plain": [
       "Group_Age\n",
       "18-29 ans      924\n",
       "30-39 ans      666\n",
       "40-49 ans      714\n",
       "50-59 ans      667\n",
       "60 ans et +    359\n",
       "dtype: int64"
      ]
     },
     "execution_count": 41,
     "metadata": {},
     "output_type": "execute_result"
    }
   ],
   "source": [
    "nombre_stresses_par_age = donnees[donnees['Stress_Level'] == 'High'].groupby('Group_Age', observed=False).size()\n",
    "nombre_stresses_par_age"
   ]
  },
  {
   "cell_type": "code",
   "execution_count": 43,
   "id": "8c58e787-f291-49da-bb3e-680a07644822",
   "metadata": {},
   "outputs": [
    {
     "data": {
      "text/html": [
       "<div>\n",
       "<style scoped>\n",
       "    .dataframe tbody tr th:only-of-type {\n",
       "        vertical-align: middle;\n",
       "    }\n",
       "\n",
       "    .dataframe tbody tr th {\n",
       "        vertical-align: top;\n",
       "    }\n",
       "\n",
       "    .dataframe thead th {\n",
       "        text-align: right;\n",
       "    }\n",
       "</style>\n",
       "<table border=\"1\" class=\"dataframe\">\n",
       "  <thead>\n",
       "    <tr style=\"text-align: right;\">\n",
       "      <th></th>\n",
       "      <th>Nombre de personnes stréssées</th>\n",
       "      <th>Nombre de personnes</th>\n",
       "    </tr>\n",
       "    <tr>\n",
       "      <th>Group_Age</th>\n",
       "      <th></th>\n",
       "      <th></th>\n",
       "    </tr>\n",
       "  </thead>\n",
       "  <tbody>\n",
       "    <tr>\n",
       "      <th>18-29 ans</th>\n",
       "      <td>924</td>\n",
       "      <td>2723</td>\n",
       "    </tr>\n",
       "    <tr>\n",
       "      <th>30-39 ans</th>\n",
       "      <td>666</td>\n",
       "      <td>2068</td>\n",
       "    </tr>\n",
       "    <tr>\n",
       "      <th>40-49 ans</th>\n",
       "      <td>714</td>\n",
       "      <td>2079</td>\n",
       "    </tr>\n",
       "    <tr>\n",
       "      <th>50-59 ans</th>\n",
       "      <td>667</td>\n",
       "      <td>2053</td>\n",
       "    </tr>\n",
       "    <tr>\n",
       "      <th>60 ans et +</th>\n",
       "      <td>359</td>\n",
       "      <td>1077</td>\n",
       "    </tr>\n",
       "  </tbody>\n",
       "</table>\n",
       "</div>"
      ],
      "text/plain": [
       "             Nombre de personnes stréssées  Nombre de personnes\n",
       "Group_Age                                                      \n",
       "18-29 ans                              924                 2723\n",
       "30-39 ans                              666                 2068\n",
       "40-49 ans                              714                 2079\n",
       "50-59 ans                              667                 2053\n",
       "60 ans et +                            359                 1077"
      ]
     },
     "execution_count": 43,
     "metadata": {},
     "output_type": "execute_result"
    }
   ],
   "source": [
    "personnes_stress = pd.DataFrame({\"Nombre de personnes stréssées\": nombre_stresses_par_age, \"Nombre de personnes\": nb_personnes})\n",
    "personnes_stress"
   ]
  },
  {
   "cell_type": "markdown",
   "id": "7a215502-0404-4a85-b196-6c8772e59fc5",
   "metadata": {},
   "source": [
    "Représentation graphique "
   ]
  },
  {
   "cell_type": "code",
   "execution_count": 46,
   "id": "976ad1e3-d2db-4618-99c5-820e8781c65e",
   "metadata": {},
   "outputs": [
    {
     "data": {
      "image/png": "[encoded data removed]",
      "text/plain": [
       "<Figure size 640x480 with 1 Axes>"
      ]
     },
     "metadata": {},
     "output_type": "display_data"
    }
   ],
   "source": [
    "personnes_stress.plot(kind='bar')\n",
    "plt.title(\"Comparaison entre nombre de personnes interrogées et celles stressées\")\n",
    "plt.xlabel(\"Groupe d'âge\")\n",
    "plt.ylabel(\"Nombre de personnes\")\n",
    "plt.show()"
   ]
  },
  {
   "cell_type": "code",
   "execution_count": 48,
   "id": "4c865abf-0b66-4046-afcb-9488dd99a41c",
   "metadata": {},
   "outputs": [
    {
     "data": {
      "text/html": [
       "<div>\n",
       "<style scoped>\n",
       "    .dataframe tbody tr th:only-of-type {\n",
       "        vertical-align: middle;\n",
       "    }\n",
       "\n",
       "    .dataframe tbody tr th {\n",
       "        vertical-align: top;\n",
       "    }\n",
       "\n",
       "    .dataframe thead th {\n",
       "        text-align: right;\n",
       "    }\n",
       "</style>\n",
       "<table border=\"1\" class=\"dataframe\">\n",
       "  <thead>\n",
       "    <tr style=\"text-align: right;\">\n",
       "      <th></th>\n",
       "      <th>Pourcentage de stress</th>\n",
       "    </tr>\n",
       "    <tr>\n",
       "      <th>Group_Age</th>\n",
       "      <th></th>\n",
       "    </tr>\n",
       "  </thead>\n",
       "  <tbody>\n",
       "    <tr>\n",
       "      <th>18-29 ans</th>\n",
       "      <td>33.93</td>\n",
       "    </tr>\n",
       "    <tr>\n",
       "      <th>30-39 ans</th>\n",
       "      <td>32.21</td>\n",
       "    </tr>\n",
       "    <tr>\n",
       "      <th>40-49 ans</th>\n",
       "      <td>34.34</td>\n",
       "    </tr>\n",
       "    <tr>\n",
       "      <th>50-59 ans</th>\n",
       "      <td>32.49</td>\n",
       "    </tr>\n",
       "    <tr>\n",
       "      <th>60 ans et +</th>\n",
       "      <td>33.33</td>\n",
       "    </tr>\n",
       "  </tbody>\n",
       "</table>\n",
       "</div>"
      ],
      "text/plain": [
       "             Pourcentage de stress\n",
       "Group_Age                         \n",
       "18-29 ans                    33.93\n",
       "30-39 ans                    32.21\n",
       "40-49 ans                    34.34\n",
       "50-59 ans                    32.49\n",
       "60 ans et +                  33.33"
      ]
     },
     "execution_count": 48,
     "metadata": {},
     "output_type": "execute_result"
    }
   ],
   "source": [
    "pourcentage_stress = pd.DataFrame({\"Pourcentage de stress\": round(nombre_stresses_par_age * 100/ nb_personnes,2)})\n",
    "pourcentage_stress"
   ]
  },
  {
   "cell_type": "code",
   "execution_count": 50,
   "id": "9bb0e6fa-f4db-471e-86ce-badcfa3607bf",
   "metadata": {},
   "outputs": [
    {
     "data": {
      "text/html": [
       "<div>\n",
       "<style scoped>\n",
       "    .dataframe tbody tr th:only-of-type {\n",
       "        vertical-align: middle;\n",
       "    }\n",
       "\n",
       "    .dataframe tbody tr th {\n",
       "        vertical-align: top;\n",
       "    }\n",
       "\n",
       "    .dataframe thead th {\n",
       "        text-align: right;\n",
       "    }\n",
       "</style>\n",
       "<table border=\"1\" class=\"dataframe\">\n",
       "  <thead>\n",
       "    <tr style=\"text-align: right;\">\n",
       "      <th></th>\n",
       "      <th>Nombre de personnes stréssées</th>\n",
       "      <th>Nombre de personnes</th>\n",
       "      <th>Pourcentage de stress</th>\n",
       "    </tr>\n",
       "    <tr>\n",
       "      <th>Group_Age</th>\n",
       "      <th></th>\n",
       "      <th></th>\n",
       "      <th></th>\n",
       "    </tr>\n",
       "  </thead>\n",
       "  <tbody>\n",
       "    <tr>\n",
       "      <th>18-29 ans</th>\n",
       "      <td>924</td>\n",
       "      <td>2723</td>\n",
       "      <td>33.93</td>\n",
       "    </tr>\n",
       "    <tr>\n",
       "      <th>30-39 ans</th>\n",
       "      <td>666</td>\n",
       "      <td>2068</td>\n",
       "      <td>32.21</td>\n",
       "    </tr>\n",
       "    <tr>\n",
       "      <th>40-49 ans</th>\n",
       "      <td>714</td>\n",
       "      <td>2079</td>\n",
       "      <td>34.34</td>\n",
       "    </tr>\n",
       "    <tr>\n",
       "      <th>50-59 ans</th>\n",
       "      <td>667</td>\n",
       "      <td>2053</td>\n",
       "      <td>32.49</td>\n",
       "    </tr>\n",
       "    <tr>\n",
       "      <th>60 ans et +</th>\n",
       "      <td>359</td>\n",
       "      <td>1077</td>\n",
       "      <td>33.33</td>\n",
       "    </tr>\n",
       "  </tbody>\n",
       "</table>\n",
       "</div>"
      ],
      "text/plain": [
       "             Nombre de personnes stréssées  Nombre de personnes  \\\n",
       "Group_Age                                                         \n",
       "18-29 ans                              924                 2723   \n",
       "30-39 ans                              666                 2068   \n",
       "40-49 ans                              714                 2079   \n",
       "50-59 ans                              667                 2053   \n",
       "60 ans et +                            359                 1077   \n",
       "\n",
       "             Pourcentage de stress  \n",
       "Group_Age                           \n",
       "18-29 ans                    33.93  \n",
       "30-39 ans                    32.21  \n",
       "40-49 ans                    34.34  \n",
       "50-59 ans                    32.49  \n",
       "60 ans et +                  33.33  "
      ]
     },
     "execution_count": 50,
     "metadata": {},
     "output_type": "execute_result"
    }
   ],
   "source": [
    "summary = pd.DataFrame({\"Nombre de personnes stréssées\": nombre_stresses_par_age, \"Nombre de personnes\": nb_personnes, \"Pourcentage de stress\": round(nombre_stresses_par_age * 100/ nb_personnes,2)})\n",
    "summary"
   ]
  },
  {
   "cell_type": "code",
   "execution_count": 54,
   "id": "eb829d80-d9cf-4c63-bc04-65c3ffdb8cfd",
   "metadata": {},
   "outputs": [
    {
     "data": {
      "image/png": "[encoded data removed]",
      "text/plain": [
       "<Figure size 640x480 with 1 Axes>"
      ]
     },
     "metadata": {},
     "output_type": "display_data"
    }
   ],
   "source": [
    "pourcentage_stress.plot(kind='bar')\n",
    "plt.title(\"Pourcentage de personnes stressées par groupe d'âge\")\n",
    "plt.xlabel(\"Groupe d'âge\")\n",
    "plt.ylabel(\"Pourcentage\")\n",
    "plt.show()"
   ]
  },
  {
   "cell_type": "markdown",
   "id": "93cc0cd5-c030-4933-a076-be24265a6217",
   "metadata": {},
   "source": [
    "Les personnes les plus touchés sont les 40-49 ans avec 34.34% suivie par les 18-29 ans avec 33.93%"
   ]
  },
  {
   "cell_type": "markdown",
   "id": "db13df94-f9a5-4d69-86c2-4734fb6b4d04",
   "metadata": {},
   "source": [
    "Maintenant, observons quelles sont les personnes touchés par la perturbation du sommeil \n",
    "\n",
    "Pour cela on va comparer les moyennes des heures de sommeil pour chaque groupe d'âge."
   ]
  },
  {
   "cell_type": "code",
   "execution_count": 65,
   "id": "1d5519d3-805a-424a-be37-41eda4a994e2",
   "metadata": {},
   "outputs": [
    {
     "data": {
      "text/plain": [
       "Group_Age\n",
       "18-29 ans      6.514513\n",
       "30-39 ans      6.486958\n",
       "40-49 ans      6.505835\n",
       "50-59 ans      6.484593\n",
       "60 ans et +    6.513175\n",
       "Name: Sleep_Hours, dtype: float64"
      ]
     },
     "execution_count": 65,
     "metadata": {},
     "output_type": "execute_result"
    }
   ],
   "source": [
    "moyenne_sommeil_par_age = donnees.groupby('Group_Age', observed=False)['Sleep_Hours'].mean()\n",
    "moyenne_sommeil_par_age"
   ]
  },
  {
   "cell_type": "markdown",
   "id": "85d145f8-1a7c-4289-84c4-6a64afef45a1",
   "metadata": {},
   "source": [
    "Représentation graphique "
   ]
  },
  {
   "cell_type": "code",
   "execution_count": 67,
   "id": "5d41e476-32f8-4ef9-8a6e-c0158f66f129",
   "metadata": {},
   "outputs": [
    {
     "data": {
      "image/png": "[encoded data removed]",
      "text/plain": [
       "<Figure size 640x480 with 1 Axes>"
      ]
     },
     "metadata": {},
     "output_type": "display_data"
    }
   ],
   "source": [
    "moyenne_sommeil_par_age.plot(kind='line')\n",
    "plt.title(\"Heures de sommeil moyennes par groupe d'âge\")\n",
    "plt.xlabel(\"Groupe d'âge\")\n",
    "plt.ylabel(\"Heures de sommeil\")\n",
    "plt.ylim(ymin=6.4, ymax=6.7)\n",
    "plt.show()"
   ]
  },
  {
   "cell_type": "markdown",
   "id": "3c490d8a-c690-41a7-b49e-92b2e9400cad",
   "metadata": {},
   "source": [
    "On peut voir qu'il n'y a pas de différence significative entre les différentes tranches d'âge, puisque les moyennes sont très proches les unes des autres.\n",
    "\n",
    "Les personnes qui dorment le moins sont les 18-29 ans et les 60 ans et plus avec 6.51 heures de sommeil en moyenne."
   ]
  },
  {
   "cell_type": "markdown",
   "id": "5a9b82ed-20f9-4484-9ca9-e2b2079833c0",
   "metadata": {},
   "source": [
    "**Conclusions**\n",
    "\n",
    "    * Les personnes le plus touchés par le stress sont les 40-49 ans et les 18-29 ans.\n",
    "    * Les personnes qui dorment le moins sont les 18-29 ans et les 60 ans et plus.\n",
    "    * Les résultats obtenus sont plutot serrées.\n"
   ]
  },
  {
   "cell_type": "markdown",
   "id": "998a459c-d596-4194-9ba9-8150f7aec73a",
   "metadata": {},
   "source": [
    "### Y'a t'il une corrélation entre le temps passé sur les écrans et le temps de sommeil ? "
   ]
  },
  {
   "cell_type": "markdown",
   "id": "5cff8958-9f15-4d04-9abd-bd1a2cb9f352",
   "metadata": {},
   "source": [
    "On va regarder s'il y a un corrélation entre le temps passé sur les écrans et le temps de sommeil. "
   ]
  },
  {
   "cell_type": "code",
   "execution_count": 97,
   "id": "f07dff81-90de-46c0-b5d0-2b25f164d4e8",
   "metadata": {},
   "outputs": [
    {
     "data": {
      "text/html": [
       "<div>\n",
       "<style scoped>\n",
       "    .dataframe tbody tr th:only-of-type {\n",
       "        vertical-align: middle;\n",
       "    }\n",
       "\n",
       "    .dataframe tbody tr th {\n",
       "        vertical-align: top;\n",
       "    }\n",
       "\n",
       "    .dataframe thead th {\n",
       "        text-align: right;\n",
       "    }\n",
       "</style>\n",
       "<table border=\"1\" class=\"dataframe\">\n",
       "  <thead>\n",
       "    <tr style=\"text-align: right;\">\n",
       "      <th></th>\n",
       "      <th>User_ID</th>\n",
       "      <th>Age</th>\n",
       "      <th>Gender</th>\n",
       "      <th>Technology_Usage_Hours</th>\n",
       "      <th>Social_Media_Usage_Hours</th>\n",
       "      <th>Gaming_Hours</th>\n",
       "      <th>Screen_Time_Hours</th>\n",
       "      <th>Mental_Health_Status</th>\n",
       "      <th>Stress_Level</th>\n",
       "      <th>Sleep_Hours</th>\n",
       "      <th>Physical_Activity_Hours</th>\n",
       "      <th>Support_Systems_Access</th>\n",
       "      <th>Work_Environment_Impact</th>\n",
       "      <th>Online_Support_Usage</th>\n",
       "      <th>Group_Age</th>\n",
       "    </tr>\n",
       "  </thead>\n",
       "  <tbody>\n",
       "    <tr>\n",
       "      <th>0</th>\n",
       "      <td>USER-00001</td>\n",
       "      <td>23</td>\n",
       "      <td>Female</td>\n",
       "      <td>6.57</td>\n",
       "      <td>6.00</td>\n",
       "      <td>0.68</td>\n",
       "      <td>12.36</td>\n",
       "      <td>Good</td>\n",
       "      <td>Low</td>\n",
       "      <td>8.01</td>\n",
       "      <td>6.71</td>\n",
       "      <td>No</td>\n",
       "      <td>Negative</td>\n",
       "      <td>Yes</td>\n",
       "      <td>18-29 ans</td>\n",
       "    </tr>\n",
       "    <tr>\n",
       "      <th>1</th>\n",
       "      <td>USER-00002</td>\n",
       "      <td>21</td>\n",
       "      <td>Male</td>\n",
       "      <td>3.01</td>\n",
       "      <td>2.57</td>\n",
       "      <td>3.74</td>\n",
       "      <td>7.61</td>\n",
       "      <td>Poor</td>\n",
       "      <td>High</td>\n",
       "      <td>7.28</td>\n",
       "      <td>5.88</td>\n",
       "      <td>Yes</td>\n",
       "      <td>Positive</td>\n",
       "      <td>No</td>\n",
       "      <td>18-29 ans</td>\n",
       "    </tr>\n",
       "    <tr>\n",
       "      <th>3</th>\n",
       "      <td>USER-00004</td>\n",
       "      <td>25</td>\n",
       "      <td>Female</td>\n",
       "      <td>3.84</td>\n",
       "      <td>4.48</td>\n",
       "      <td>2.59</td>\n",
       "      <td>13.08</td>\n",
       "      <td>Excellent</td>\n",
       "      <td>Medium</td>\n",
       "      <td>5.62</td>\n",
       "      <td>5.28</td>\n",
       "      <td>Yes</td>\n",
       "      <td>Negative</td>\n",
       "      <td>Yes</td>\n",
       "      <td>18-29 ans</td>\n",
       "    </tr>\n",
       "    <tr>\n",
       "      <th>4</th>\n",
       "      <td>USER-00005</td>\n",
       "      <td>53</td>\n",
       "      <td>Male</td>\n",
       "      <td>1.20</td>\n",
       "      <td>0.56</td>\n",
       "      <td>0.29</td>\n",
       "      <td>12.63</td>\n",
       "      <td>Good</td>\n",
       "      <td>Low</td>\n",
       "      <td>5.55</td>\n",
       "      <td>4.00</td>\n",
       "      <td>No</td>\n",
       "      <td>Positive</td>\n",
       "      <td>Yes</td>\n",
       "      <td>50-59 ans</td>\n",
       "    </tr>\n",
       "    <tr>\n",
       "      <th>6</th>\n",
       "      <td>USER-00007</td>\n",
       "      <td>63</td>\n",
       "      <td>Female</td>\n",
       "      <td>3.38</td>\n",
       "      <td>2.55</td>\n",
       "      <td>3.79</td>\n",
       "      <td>9.78</td>\n",
       "      <td>Excellent</td>\n",
       "      <td>Medium</td>\n",
       "      <td>8.61</td>\n",
       "      <td>1.34</td>\n",
       "      <td>Yes</td>\n",
       "      <td>Neutral</td>\n",
       "      <td>No</td>\n",
       "      <td>60 ans et +</td>\n",
       "    </tr>\n",
       "    <tr>\n",
       "      <th>...</th>\n",
       "      <td>...</td>\n",
       "      <td>...</td>\n",
       "      <td>...</td>\n",
       "      <td>...</td>\n",
       "      <td>...</td>\n",
       "      <td>...</td>\n",
       "      <td>...</td>\n",
       "      <td>...</td>\n",
       "      <td>...</td>\n",
       "      <td>...</td>\n",
       "      <td>...</td>\n",
       "      <td>...</td>\n",
       "      <td>...</td>\n",
       "      <td>...</td>\n",
       "      <td>...</td>\n",
       "    </tr>\n",
       "    <tr>\n",
       "      <th>9994</th>\n",
       "      <td>USER-09995</td>\n",
       "      <td>51</td>\n",
       "      <td>Female</td>\n",
       "      <td>10.71</td>\n",
       "      <td>1.89</td>\n",
       "      <td>3.35</td>\n",
       "      <td>8.03</td>\n",
       "      <td>Fair</td>\n",
       "      <td>Medium</td>\n",
       "      <td>7.77</td>\n",
       "      <td>6.87</td>\n",
       "      <td>No</td>\n",
       "      <td>Neutral</td>\n",
       "      <td>No</td>\n",
       "      <td>50-59 ans</td>\n",
       "    </tr>\n",
       "    <tr>\n",
       "      <th>9995</th>\n",
       "      <td>USER-09996</td>\n",
       "      <td>42</td>\n",
       "      <td>Male</td>\n",
       "      <td>7.05</td>\n",
       "      <td>0.41</td>\n",
       "      <td>0.53</td>\n",
       "      <td>13.90</td>\n",
       "      <td>Good</td>\n",
       "      <td>Medium</td>\n",
       "      <td>7.37</td>\n",
       "      <td>5.02</td>\n",
       "      <td>Yes</td>\n",
       "      <td>Neutral</td>\n",
       "      <td>No</td>\n",
       "      <td>40-49 ans</td>\n",
       "    </tr>\n",
       "    <tr>\n",
       "      <th>9997</th>\n",
       "      <td>USER-09998</td>\n",
       "      <td>23</td>\n",
       "      <td>Male</td>\n",
       "      <td>4.38</td>\n",
       "      <td>3.98</td>\n",
       "      <td>0.52</td>\n",
       "      <td>7.81</td>\n",
       "      <td>Poor</td>\n",
       "      <td>High</td>\n",
       "      <td>7.59</td>\n",
       "      <td>2.99</td>\n",
       "      <td>No</td>\n",
       "      <td>Positive</td>\n",
       "      <td>No</td>\n",
       "      <td>18-29 ans</td>\n",
       "    </tr>\n",
       "    <tr>\n",
       "      <th>9998</th>\n",
       "      <td>USER-09999</td>\n",
       "      <td>38</td>\n",
       "      <td>Male</td>\n",
       "      <td>4.44</td>\n",
       "      <td>1.48</td>\n",
       "      <td>3.28</td>\n",
       "      <td>13.95</td>\n",
       "      <td>Poor</td>\n",
       "      <td>Medium</td>\n",
       "      <td>7.26</td>\n",
       "      <td>2.24</td>\n",
       "      <td>Yes</td>\n",
       "      <td>Neutral</td>\n",
       "      <td>Yes</td>\n",
       "      <td>30-39 ans</td>\n",
       "    </tr>\n",
       "    <tr>\n",
       "      <th>9999</th>\n",
       "      <td>USER-10000</td>\n",
       "      <td>41</td>\n",
       "      <td>Male</td>\n",
       "      <td>2.50</td>\n",
       "      <td>4.80</td>\n",
       "      <td>0.25</td>\n",
       "      <td>8.82</td>\n",
       "      <td>Fair</td>\n",
       "      <td>Low</td>\n",
       "      <td>4.62</td>\n",
       "      <td>5.09</td>\n",
       "      <td>Yes</td>\n",
       "      <td>Positive</td>\n",
       "      <td>Yes</td>\n",
       "      <td>40-49 ans</td>\n",
       "    </tr>\n",
       "  </tbody>\n",
       "</table>\n",
       "<p>5694 rows × 15 columns</p>\n",
       "</div>"
      ],
      "text/plain": [
       "         User_ID  Age  Gender  Technology_Usage_Hours  \\\n",
       "0     USER-00001   23  Female                    6.57   \n",
       "1     USER-00002   21    Male                    3.01   \n",
       "3     USER-00004   25  Female                    3.84   \n",
       "4     USER-00005   53    Male                    1.20   \n",
       "6     USER-00007   63  Female                    3.38   \n",
       "...          ...  ...     ...                     ...   \n",
       "9994  USER-09995   51  Female                   10.71   \n",
       "9995  USER-09996   42    Male                    7.05   \n",
       "9997  USER-09998   23    Male                    4.38   \n",
       "9998  USER-09999   38    Male                    4.44   \n",
       "9999  USER-10000   41    Male                    2.50   \n",
       "\n",
       "      Social_Media_Usage_Hours  Gaming_Hours  Screen_Time_Hours  \\\n",
       "0                         6.00          0.68              12.36   \n",
       "1                         2.57          3.74               7.61   \n",
       "3                         4.48          2.59              13.08   \n",
       "4                         0.56          0.29              12.63   \n",
       "6                         2.55          3.79               9.78   \n",
       "...                        ...           ...                ...   \n",
       "9994                      1.89          3.35               8.03   \n",
       "9995                      0.41          0.53              13.90   \n",
       "9997                      3.98          0.52               7.81   \n",
       "9998                      1.48          3.28              13.95   \n",
       "9999                      4.80          0.25               8.82   \n",
       "\n",
       "     Mental_Health_Status Stress_Level  Sleep_Hours  Physical_Activity_Hours  \\\n",
       "0                    Good          Low         8.01                     6.71   \n",
       "1                    Poor         High         7.28                     5.88   \n",
       "3               Excellent       Medium         5.62                     5.28   \n",
       "4                    Good          Low         5.55                     4.00   \n",
       "6               Excellent       Medium         8.61                     1.34   \n",
       "...                   ...          ...          ...                      ...   \n",
       "9994                 Fair       Medium         7.77                     6.87   \n",
       "9995                 Good       Medium         7.37                     5.02   \n",
       "9997                 Poor         High         7.59                     2.99   \n",
       "9998                 Poor       Medium         7.26                     2.24   \n",
       "9999                 Fair          Low         4.62                     5.09   \n",
       "\n",
       "     Support_Systems_Access Work_Environment_Impact Online_Support_Usage  \\\n",
       "0                        No                Negative                  Yes   \n",
       "1                       Yes                Positive                   No   \n",
       "3                       Yes                Negative                  Yes   \n",
       "4                        No                Positive                  Yes   \n",
       "6                       Yes                 Neutral                   No   \n",
       "...                     ...                     ...                  ...   \n",
       "9994                     No                 Neutral                   No   \n",
       "9995                    Yes                 Neutral                   No   \n",
       "9997                     No                Positive                   No   \n",
       "9998                    Yes                 Neutral                  Yes   \n",
       "9999                    Yes                Positive                  Yes   \n",
       "\n",
       "        Group_Age  \n",
       "0       18-29 ans  \n",
       "1       18-29 ans  \n",
       "3       18-29 ans  \n",
       "4       50-59 ans  \n",
       "6     60 ans et +  \n",
       "...           ...  \n",
       "9994    50-59 ans  \n",
       "9995    40-49 ans  \n",
       "9997    18-29 ans  \n",
       "9998    30-39 ans  \n",
       "9999    40-49 ans  \n",
       "\n",
       "[5694 rows x 15 columns]"
      ]
     },
     "execution_count": 97,
     "metadata": {},
     "output_type": "execute_result"
    }
   ],
   "source": [
    "screen_hours = donnees[donnees['Screen_Time_Hours'] > 7]\n",
    "screen_hours"
   ]
  },
  {
   "cell_type": "markdown",
   "id": "15159224-6d00-4cca-be74-118e2ad86c82",
   "metadata": {},
   "source": [
    "On peut voir qu'avec plus de 7h d'écrans par jour, les heures de sommeils sont variables."
   ]
  },
  {
   "cell_type": "code",
   "execution_count": 79,
   "id": "90e6693e-87b0-42f4-9d90-9da43bc86bca",
   "metadata": {},
   "outputs": [
    {
     "data": {
      "image/png": "[encoded data removed]",
      "text/plain": [
       "<Figure size 640x480 with 2 Axes>"
      ]
     },
     "metadata": {},
     "output_type": "display_data"
    }
   ],
   "source": [
    "import seaborn as sns\n",
    "sns.heatmap(donnees.corr(numeric_only=True), fmt='0.2f', annot=True, square=True)\n",
    "plt.show()"
   ]
  },
  {
   "cell_type": "markdown",
   "id": "2fb4231b-ed2f-4ee7-a029-4bf9a1d015d5",
   "metadata": {},
   "source": [
    "On peut voit qu'il y a une corrélation très faible et négative entre ces deux variables. \n",
    "Cela signifie qu'il existe une tendance légèrement inverse entre le temps passé sur les écrans et la durée du sommeil mais cette relation est extrêmement faible et ne peut pas être considérée comme significative."
   ]
  },
  {
   "cell_type": "markdown",
   "id": "429b8687-2352-4b09-8b5f-e06d35fab482",
   "metadata": {},
   "source": [
    "**Conclusion**\n",
    "\n",
    "Il n'y a pas de corrélation significative entre le temps passé sur les écrans et le temps de sommeil."
   ]
  },
  {
   "cell_type": "markdown",
   "id": "7c570377-6629-4d44-b4a6-0a66263d7689",
   "metadata": {},
   "source": [
    "### L'activité physique a-t-elle un impact sur la santé mentale ? "
   ]
  },
  {
   "cell_type": "markdown",
   "id": "ec4011da-4096-43e9-a771-3f6959c26af0",
   "metadata": {},
   "source": [
    "On va considérer quelqu'un de pas sportif s'il fait moins de 2h de sport, peu sportif entre 2 et 5h, et sportif à partir de 5h de sport."
   ]
  },
  {
   "cell_type": "markdown",
   "id": "6f906934-b812-404f-b828-3f5278c833a6",
   "metadata": {},
   "source": [
    "On va comparer la santé mentale des personnes qui font du sport et celles qui n'en font pas. \n"
   ]
  },
  {
   "cell_type": "code",
   "execution_count": 120,
   "id": "cff54ec9-3d83-4c2f-baab-b39a1388ad84",
   "metadata": {},
   "outputs": [],
   "source": [
    "donnees['Sportif'] = pd.cut(donnees['Physical_Activity_Hours'], \n",
    "                               bins=[0,2, 5, 11],\n",
    "                               labels=['non sportif', 'peu sportif', 'sportif'])"
   ]
  },
  {
   "cell_type": "code",
   "execution_count": 298,
   "id": "d0955750-c471-4192-9d12-b9ff84da5a6a",
   "metadata": {},
   "outputs": [
    {
     "data": {
      "text/plain": [
       "<Axes: xlabel='Sportif', ylabel='Mental_Health_Status'>"
      ]
     },
     "execution_count": 298,
     "metadata": {},
     "output_type": "execute_result"
    },
    {
     "data": {
      "image/png": "[encoded data removed]",
      "text/plain": [
       "<Figure size 640x480 with 1 Axes>"
      ]
     },
     "metadata": {},
     "output_type": "display_data"
    }
   ],
   "source": [
    "sns.boxplot(x='Sportif', y='Mental_Health_Status', data=donnees)"
   ]
  },
  {
   "cell_type": "markdown",
   "id": "d93be796-4ada-4afa-8aa4-a66b10080156",
   "metadata": {},
   "source": [
    "A travers le graphique, on peut voir que les personnes sportives ont une santé mentale qui varie entre Mauvaise et Excellente.\n",
    "Les personnes non sportives ont une santé mentale qui varie entre Bonne et Passable. \n",
    "Les personnes non sportives ont tous les types de santé mentale."
   ]
  },
  {
   "cell_type": "code",
   "execution_count": 179,
   "id": "f06c1624-a7df-43b8-ac7a-5097057a41bb",
   "metadata": {},
   "outputs": [
    {
     "data": {
      "text/plain": [
       "Mental_Health_Status  Sportif    \n",
       "Excellent             non sportif     483\n",
       "                      peu sportif     761\n",
       "                      sportif        1272\n",
       "Fair                  non sportif     522\n",
       "                      peu sportif     729\n",
       "                      sportif        1236\n",
       "Good                  non sportif     516\n",
       "                      peu sportif     756\n",
       "                      sportif        1236\n",
       "Poor                  non sportif     478\n",
       "                      peu sportif     768\n",
       "                      sportif        1236\n",
       "Name: User_ID, dtype: int64"
      ]
     },
     "execution_count": 179,
     "metadata": {},
     "output_type": "execute_result"
    }
   ],
   "source": [
    "mental_sportif = donnees.groupby(['Mental_Health_Status', 'Sportif'], observed=False)['User_ID'].count()\n",
    "mental_sportif"
   ]
  },
  {
   "cell_type": "code",
   "execution_count": 201,
   "id": "3d279a84-3fc8-400b-b102-1b09dcfefc8e",
   "metadata": {},
   "outputs": [
    {
     "data": {
      "text/plain": [
       "Sportif\n",
       "non sportif    1999\n",
       "peu sportif    3014\n",
       "sportif        4980\n",
       "Name: User_ID, dtype: int64"
      ]
     },
     "execution_count": 201,
     "metadata": {},
     "output_type": "execute_result"
    }
   ],
   "source": [
    "sportif = donnees.groupby('Sportif', observed=False)['User_ID'].count()\n",
    "sportif"
   ]
  },
  {
   "cell_type": "code",
   "execution_count": 205,
   "id": "a304bfe9-6527-4480-b5d7-6c10aef58474",
   "metadata": {},
   "outputs": [
    {
     "data": {
      "text/html": [
       "<div>\n",
       "<style scoped>\n",
       "    .dataframe tbody tr th:only-of-type {\n",
       "        vertical-align: middle;\n",
       "    }\n",
       "\n",
       "    .dataframe tbody tr th {\n",
       "        vertical-align: top;\n",
       "    }\n",
       "\n",
       "    .dataframe thead th {\n",
       "        text-align: right;\n",
       "    }\n",
       "</style>\n",
       "<table border=\"1\" class=\"dataframe\">\n",
       "  <thead>\n",
       "    <tr style=\"text-align: right;\">\n",
       "      <th></th>\n",
       "      <th></th>\n",
       "      <th>Santé mentale</th>\n",
       "    </tr>\n",
       "    <tr>\n",
       "      <th>Mental_Health_Status</th>\n",
       "      <th>Sportif</th>\n",
       "      <th></th>\n",
       "    </tr>\n",
       "  </thead>\n",
       "  <tbody>\n",
       "    <tr>\n",
       "      <th rowspan=\"3\" valign=\"top\">Excellent</th>\n",
       "      <th>non sportif</th>\n",
       "      <td>483</td>\n",
       "    </tr>\n",
       "    <tr>\n",
       "      <th>peu sportif</th>\n",
       "      <td>761</td>\n",
       "    </tr>\n",
       "    <tr>\n",
       "      <th>sportif</th>\n",
       "      <td>1272</td>\n",
       "    </tr>\n",
       "    <tr>\n",
       "      <th rowspan=\"3\" valign=\"top\">Fair</th>\n",
       "      <th>non sportif</th>\n",
       "      <td>522</td>\n",
       "    </tr>\n",
       "    <tr>\n",
       "      <th>peu sportif</th>\n",
       "      <td>729</td>\n",
       "    </tr>\n",
       "    <tr>\n",
       "      <th>sportif</th>\n",
       "      <td>1236</td>\n",
       "    </tr>\n",
       "    <tr>\n",
       "      <th rowspan=\"3\" valign=\"top\">Good</th>\n",
       "      <th>non sportif</th>\n",
       "      <td>516</td>\n",
       "    </tr>\n",
       "    <tr>\n",
       "      <th>peu sportif</th>\n",
       "      <td>756</td>\n",
       "    </tr>\n",
       "    <tr>\n",
       "      <th>sportif</th>\n",
       "      <td>1236</td>\n",
       "    </tr>\n",
       "    <tr>\n",
       "      <th rowspan=\"3\" valign=\"top\">Poor</th>\n",
       "      <th>non sportif</th>\n",
       "      <td>478</td>\n",
       "    </tr>\n",
       "    <tr>\n",
       "      <th>peu sportif</th>\n",
       "      <td>768</td>\n",
       "    </tr>\n",
       "    <tr>\n",
       "      <th>sportif</th>\n",
       "      <td>1236</td>\n",
       "    </tr>\n",
       "  </tbody>\n",
       "</table>\n",
       "</div>"
      ],
      "text/plain": [
       "                                  Santé mentale\n",
       "Mental_Health_Status Sportif                   \n",
       "Excellent            non sportif            483\n",
       "                     peu sportif            761\n",
       "                     sportif               1272\n",
       "Fair                 non sportif            522\n",
       "                     peu sportif            729\n",
       "                     sportif               1236\n",
       "Good                 non sportif            516\n",
       "                     peu sportif            756\n",
       "                     sportif               1236\n",
       "Poor                 non sportif            478\n",
       "                     peu sportif            768\n",
       "                     sportif               1236"
      ]
     },
     "execution_count": 205,
     "metadata": {},
     "output_type": "execute_result"
    }
   ],
   "source": [
    "summary= pd.DataFrame({\"Santé mentale\": mental_sportif})\n",
    "summary"
   ]
  },
  {
   "cell_type": "code",
   "execution_count": 175,
   "id": "ddd7860e-2dc2-4951-b78e-027792109c71",
   "metadata": {},
   "outputs": [
    {
     "data": {
      "image/png": "[encoded data removed]",
      "text/plain": [
       "<Figure size 640x480 with 1 Axes>"
      ]
     },
     "metadata": {},
     "output_type": "display_data"
    }
   ],
   "source": [
    "summary.plot(kind='bar')\n",
    "plt.title(\"Santé mentale selon le type de sportif\")\n",
    "plt.xlabel(\"Santé mentale et type de sportif\")\n",
    "plt.ylabel(\"Nombre de personnes\")\n",
    "plt.show()"
   ]
  },
  {
   "cell_type": "code",
   "execution_count": 207,
   "id": "fde0e01a-2a6d-41ad-84f6-a95794a189ac",
   "metadata": {},
   "outputs": [
    {
     "data": {
      "text/html": [
       "<div>\n",
       "<style scoped>\n",
       "    .dataframe tbody tr th:only-of-type {\n",
       "        vertical-align: middle;\n",
       "    }\n",
       "\n",
       "    .dataframe tbody tr th {\n",
       "        vertical-align: top;\n",
       "    }\n",
       "\n",
       "    .dataframe thead th {\n",
       "        text-align: right;\n",
       "    }\n",
       "</style>\n",
       "<table border=\"1\" class=\"dataframe\">\n",
       "  <thead>\n",
       "    <tr style=\"text-align: right;\">\n",
       "      <th></th>\n",
       "      <th></th>\n",
       "      <th>Santé mentale</th>\n",
       "      <th>%</th>\n",
       "    </tr>\n",
       "    <tr>\n",
       "      <th>Mental_Health_Status</th>\n",
       "      <th>Sportif</th>\n",
       "      <th></th>\n",
       "      <th></th>\n",
       "    </tr>\n",
       "  </thead>\n",
       "  <tbody>\n",
       "    <tr>\n",
       "      <th rowspan=\"3\" valign=\"top\">Excellent</th>\n",
       "      <th>non sportif</th>\n",
       "      <td>483</td>\n",
       "      <td>24.16</td>\n",
       "    </tr>\n",
       "    <tr>\n",
       "      <th>peu sportif</th>\n",
       "      <td>761</td>\n",
       "      <td>25.25</td>\n",
       "    </tr>\n",
       "    <tr>\n",
       "      <th>sportif</th>\n",
       "      <td>1272</td>\n",
       "      <td>25.54</td>\n",
       "    </tr>\n",
       "    <tr>\n",
       "      <th rowspan=\"3\" valign=\"top\">Fair</th>\n",
       "      <th>non sportif</th>\n",
       "      <td>522</td>\n",
       "      <td>26.11</td>\n",
       "    </tr>\n",
       "    <tr>\n",
       "      <th>peu sportif</th>\n",
       "      <td>729</td>\n",
       "      <td>24.19</td>\n",
       "    </tr>\n",
       "    <tr>\n",
       "      <th>sportif</th>\n",
       "      <td>1236</td>\n",
       "      <td>24.82</td>\n",
       "    </tr>\n",
       "    <tr>\n",
       "      <th rowspan=\"3\" valign=\"top\">Good</th>\n",
       "      <th>non sportif</th>\n",
       "      <td>516</td>\n",
       "      <td>25.81</td>\n",
       "    </tr>\n",
       "    <tr>\n",
       "      <th>peu sportif</th>\n",
       "      <td>756</td>\n",
       "      <td>25.08</td>\n",
       "    </tr>\n",
       "    <tr>\n",
       "      <th>sportif</th>\n",
       "      <td>1236</td>\n",
       "      <td>24.82</td>\n",
       "    </tr>\n",
       "    <tr>\n",
       "      <th rowspan=\"3\" valign=\"top\">Poor</th>\n",
       "      <th>non sportif</th>\n",
       "      <td>478</td>\n",
       "      <td>23.91</td>\n",
       "    </tr>\n",
       "    <tr>\n",
       "      <th>peu sportif</th>\n",
       "      <td>768</td>\n",
       "      <td>25.48</td>\n",
       "    </tr>\n",
       "    <tr>\n",
       "      <th>sportif</th>\n",
       "      <td>1236</td>\n",
       "      <td>24.82</td>\n",
       "    </tr>\n",
       "  </tbody>\n",
       "</table>\n",
       "</div>"
      ],
      "text/plain": [
       "                                  Santé mentale      %\n",
       "Mental_Health_Status Sportif                          \n",
       "Excellent            non sportif            483  24.16\n",
       "                     peu sportif            761  25.25\n",
       "                     sportif               1272  25.54\n",
       "Fair                 non sportif            522  26.11\n",
       "                     peu sportif            729  24.19\n",
       "                     sportif               1236  24.82\n",
       "Good                 non sportif            516  25.81\n",
       "                     peu sportif            756  25.08\n",
       "                     sportif               1236  24.82\n",
       "Poor                 non sportif            478  23.91\n",
       "                     peu sportif            768  25.48\n",
       "                     sportif               1236  24.82"
      ]
     },
     "execution_count": 207,
     "metadata": {},
     "output_type": "execute_result"
    }
   ],
   "source": [
    "summary_plus= pd.DataFrame({\"Santé mentale\": mental_sportif,\n",
    "                      '%': round(mental_sportif/sportif*100,2) })\n",
    "summary_plus"
   ]
  },
  {
   "cell_type": "markdown",
   "id": "01c2bc00-9f09-4c78-9ef2-da3c258d93b8",
   "metadata": {},
   "source": [
    "On remarque que les personnes qui font du sport et celle qui n'en font pas ou peu on plutôt les mêmes état de santé. \n",
    "On peut voir que les personnes qui font du sport ont plus une excellente santé mentale  à 25,54%.\n",
    "Les personnes qui font peu de sport ont plus une mauvaise santé mentale à 25,48%.\n",
    "Les personnes qui ne font pas de sport ont plus une santé mentale passable à 26,11%."
   ]
  },
  {
   "cell_type": "markdown",
   "id": "161e6163-00b0-4270-b978-ef03d5753318",
   "metadata": {},
   "source": [
    "**Conclusion**\n",
    "\n",
    "L'activité physique ne modifie pas significativement la santé mentale chez les personnes.\n",
    "Cette analyse ne permet pas d'établir un lien de causalité direct entre l'activité physique et la santé mentale."
   ]
  },
  {
   "cell_type": "markdown",
   "id": "1ea0ff42-5579-4513-8962-e55877e01583",
   "metadata": {},
   "source": [
    "### Hypothèse 1 : Plus le temps passé sur les réseaux sociaux est élevé, plus le niveau de stress est important.\n"
   ]
  },
  {
   "cell_type": "code",
   "execution_count": 240,
   "id": "f0137ce9-c7a5-4c00-b87d-9ca026d87967",
   "metadata": {},
   "outputs": [],
   "source": [
    "donnees['Addict'] = pd.cut(donnees['Screen_Time_Hours'], \n",
    "                               bins=[0,5, 10, 16],\n",
    "                               labels=['non', 'peu ', 'beaucoup'])"
   ]
  },
  {
   "cell_type": "code",
   "execution_count": 242,
   "id": "0bf30e6a-ba67-4971-b93d-903653f31c04",
   "metadata": {},
   "outputs": [
    {
     "data": {
      "text/html": [
       "<div>\n",
       "<style scoped>\n",
       "    .dataframe tbody tr th:only-of-type {\n",
       "        vertical-align: middle;\n",
       "    }\n",
       "\n",
       "    .dataframe tbody tr th {\n",
       "        vertical-align: top;\n",
       "    }\n",
       "\n",
       "    .dataframe thead th {\n",
       "        text-align: right;\n",
       "    }\n",
       "</style>\n",
       "<table border=\"1\" class=\"dataframe\">\n",
       "  <thead>\n",
       "    <tr style=\"text-align: right;\">\n",
       "      <th>Stress_Level</th>\n",
       "      <th>High</th>\n",
       "      <th>Low</th>\n",
       "      <th>Medium</th>\n",
       "    </tr>\n",
       "    <tr>\n",
       "      <th>Addict</th>\n",
       "      <th></th>\n",
       "      <th></th>\n",
       "      <th></th>\n",
       "    </tr>\n",
       "  </thead>\n",
       "  <tbody>\n",
       "    <tr>\n",
       "      <th>non</th>\n",
       "      <td>956</td>\n",
       "      <td>930</td>\n",
       "      <td>964</td>\n",
       "    </tr>\n",
       "    <tr>\n",
       "      <th>peu</th>\n",
       "      <td>1222</td>\n",
       "      <td>1180</td>\n",
       "      <td>1226</td>\n",
       "    </tr>\n",
       "    <tr>\n",
       "      <th>beaucoup</th>\n",
       "      <td>1152</td>\n",
       "      <td>1222</td>\n",
       "      <td>1148</td>\n",
       "    </tr>\n",
       "  </tbody>\n",
       "</table>\n",
       "</div>"
      ],
      "text/plain": [
       "Stress_Level  High   Low  Medium\n",
       "Addict                          \n",
       "non            956   930     964\n",
       "peu           1222  1180    1226\n",
       "beaucoup      1152  1222    1148"
      ]
     },
     "execution_count": 242,
     "metadata": {},
     "output_type": "execute_result"
    }
   ],
   "source": [
    "crosstab = pd.crosstab(donnees['Addict'], donnees['Stress_Level'])\n",
    "crosstab"
   ]
  },
  {
   "cell_type": "code",
   "execution_count": 244,
   "id": "6b5f52df-a424-446e-8e1c-94b25c52fd9a",
   "metadata": {},
   "outputs": [
    {
     "data": {
      "text/html": [
       "<div>\n",
       "<style scoped>\n",
       "    .dataframe tbody tr th:only-of-type {\n",
       "        vertical-align: middle;\n",
       "    }\n",
       "\n",
       "    .dataframe tbody tr th {\n",
       "        vertical-align: top;\n",
       "    }\n",
       "\n",
       "    .dataframe thead th {\n",
       "        text-align: right;\n",
       "    }\n",
       "</style>\n",
       "<table border=\"1\" class=\"dataframe\">\n",
       "  <thead>\n",
       "    <tr style=\"text-align: right;\">\n",
       "      <th>Stress_Level</th>\n",
       "      <th>High</th>\n",
       "      <th>Low</th>\n",
       "      <th>Medium</th>\n",
       "    </tr>\n",
       "    <tr>\n",
       "      <th>Addict</th>\n",
       "      <th></th>\n",
       "      <th></th>\n",
       "      <th></th>\n",
       "    </tr>\n",
       "  </thead>\n",
       "  <tbody>\n",
       "    <tr>\n",
       "      <th>non</th>\n",
       "      <td>0.335439</td>\n",
       "      <td>0.326316</td>\n",
       "      <td>0.338246</td>\n",
       "    </tr>\n",
       "    <tr>\n",
       "      <th>peu</th>\n",
       "      <td>0.336825</td>\n",
       "      <td>0.325248</td>\n",
       "      <td>0.337927</td>\n",
       "    </tr>\n",
       "    <tr>\n",
       "      <th>beaucoup</th>\n",
       "      <td>0.327087</td>\n",
       "      <td>0.346962</td>\n",
       "      <td>0.325951</td>\n",
       "    </tr>\n",
       "  </tbody>\n",
       "</table>\n",
       "</div>"
      ],
      "text/plain": [
       "Stress_Level      High       Low    Medium\n",
       "Addict                                    \n",
       "non           0.335439  0.326316  0.338246\n",
       "peu           0.336825  0.325248  0.337927\n",
       "beaucoup      0.327087  0.346962  0.325951"
      ]
     },
     "execution_count": 244,
     "metadata": {},
     "output_type": "execute_result"
    }
   ],
   "source": [
    "crosstab_pct = crosstab.div(crosstab.sum(axis=1), axis=0)\n",
    "crosstab_pct"
   ]
  },
  {
   "cell_type": "code",
   "execution_count": 251,
   "id": "2ef05fdc-c2be-4c6d-9084-9f48ba0d2c18",
   "metadata": {},
   "outputs": [
    {
     "data": {
      "image/png": "[encoded data removed]",
      "text/plain": [
       "<Figure size 640x480 with 2 Axes>"
      ]
     },
     "metadata": {},
     "output_type": "display_data"
    }
   ],
   "source": [
    "sns.heatmap(crosstab_pct, annot=True, fmt='.2%', cmap='coolwarm')\n",
    "plt.xlabel(\"Niveau de stress\")\n",
    "plt.ylabel(\"Temps passé sur les réseaux (heures)\")\n",
    "plt.title(\"Pourcentage d'individus par niveau de stress et temps passé sur les réseaux\")\n",
    "plt.show()"
   ]
  },
  {
   "cell_type": "markdown",
   "id": "28808bf5-02af-4a98-953a-a844cde2d11c",
   "metadata": {},
   "source": [
    "On peut constater que ceux qui sont très peu sur leur téléphone ont un stress plutot moyen et haut. \n",
    "Les personnes qui sont plus sur leur téléphone ont un stress moyen et un stress haut. \n",
    "Les personnes beaucoup sur leur téléphone sont peu stressés. "
   ]
  },
  {
   "cell_type": "markdown",
   "id": "2f4846f2-16d9-4c16-ae57-e241cf405227",
   "metadata": {},
   "source": [
    "Le stress n'est pas plus élevé que l'on soit beaucoup ou non sur son téléphone."
   ]
  },
  {
   "cell_type": "markdown",
   "id": "3f146b43-8002-44df-8733-7ec291e9b72a",
   "metadata": {},
   "source": [
    "### Hypothèse 2 : Moins une personne dort, plus elle est susceptible de rapporter un mauvais état de santé mentale.\n"
   ]
  },
  {
   "cell_type": "code",
   "execution_count": 258,
   "id": "e294a1d0-90a8-45b6-9a82-869c7a8e0854",
   "metadata": {},
   "outputs": [],
   "source": [
    "donnees['Dormeur'] = pd.cut(donnees['Sleep_Hours'], \n",
    "                               bins=[0,4, 8, 10],\n",
    "                               labels=['non dormeur', 'dormeur ', 'gros dormeur'])"
   ]
  },
  {
   "cell_type": "code",
   "execution_count": 266,
   "id": "82fea58b-bf95-46b6-ae38-85e45ec4dfc3",
   "metadata": {},
   "outputs": [
    {
     "data": {
      "text/html": [
       "<div>\n",
       "<style scoped>\n",
       "    .dataframe tbody tr th:only-of-type {\n",
       "        vertical-align: middle;\n",
       "    }\n",
       "\n",
       "    .dataframe tbody tr th {\n",
       "        vertical-align: top;\n",
       "    }\n",
       "\n",
       "    .dataframe thead th {\n",
       "        text-align: right;\n",
       "    }\n",
       "</style>\n",
       "<table border=\"1\" class=\"dataframe\">\n",
       "  <thead>\n",
       "    <tr style=\"text-align: right;\">\n",
       "      <th></th>\n",
       "      <th>User_ID</th>\n",
       "      <th>Age</th>\n",
       "      <th>Gender</th>\n",
       "      <th>Technology_Usage_Hours</th>\n",
       "      <th>Social_Media_Usage_Hours</th>\n",
       "      <th>Gaming_Hours</th>\n",
       "      <th>Screen_Time_Hours</th>\n",
       "      <th>Mental_Health_Status</th>\n",
       "      <th>Stress_Level</th>\n",
       "      <th>Sleep_Hours</th>\n",
       "      <th>Physical_Activity_Hours</th>\n",
       "      <th>Support_Systems_Access</th>\n",
       "      <th>Work_Environment_Impact</th>\n",
       "      <th>Online_Support_Usage</th>\n",
       "      <th>Group_Age</th>\n",
       "      <th>Sportif</th>\n",
       "      <th>Addict</th>\n",
       "      <th>Dormeur</th>\n",
       "    </tr>\n",
       "  </thead>\n",
       "  <tbody>\n",
       "    <tr>\n",
       "      <th>0</th>\n",
       "      <td>USER-00001</td>\n",
       "      <td>23</td>\n",
       "      <td>Female</td>\n",
       "      <td>6.57</td>\n",
       "      <td>6.00</td>\n",
       "      <td>0.68</td>\n",
       "      <td>12.36</td>\n",
       "      <td>Good</td>\n",
       "      <td>Low</td>\n",
       "      <td>8.01</td>\n",
       "      <td>6.71</td>\n",
       "      <td>No</td>\n",
       "      <td>Negative</td>\n",
       "      <td>Yes</td>\n",
       "      <td>18-29 ans</td>\n",
       "      <td>sportif</td>\n",
       "      <td>beaucoup</td>\n",
       "      <td>gros dormeur</td>\n",
       "    </tr>\n",
       "    <tr>\n",
       "      <th>1</th>\n",
       "      <td>USER-00002</td>\n",
       "      <td>21</td>\n",
       "      <td>Male</td>\n",
       "      <td>3.01</td>\n",
       "      <td>2.57</td>\n",
       "      <td>3.74</td>\n",
       "      <td>7.61</td>\n",
       "      <td>Poor</td>\n",
       "      <td>High</td>\n",
       "      <td>7.28</td>\n",
       "      <td>5.88</td>\n",
       "      <td>Yes</td>\n",
       "      <td>Positive</td>\n",
       "      <td>No</td>\n",
       "      <td>18-29 ans</td>\n",
       "      <td>sportif</td>\n",
       "      <td>peu</td>\n",
       "      <td>dormeur</td>\n",
       "    </tr>\n",
       "    <tr>\n",
       "      <th>2</th>\n",
       "      <td>USER-00003</td>\n",
       "      <td>51</td>\n",
       "      <td>Male</td>\n",
       "      <td>3.04</td>\n",
       "      <td>6.14</td>\n",
       "      <td>1.26</td>\n",
       "      <td>3.16</td>\n",
       "      <td>Fair</td>\n",
       "      <td>High</td>\n",
       "      <td>8.04</td>\n",
       "      <td>9.81</td>\n",
       "      <td>No</td>\n",
       "      <td>Negative</td>\n",
       "      <td>No</td>\n",
       "      <td>50-59 ans</td>\n",
       "      <td>sportif</td>\n",
       "      <td>non</td>\n",
       "      <td>gros dormeur</td>\n",
       "    </tr>\n",
       "    <tr>\n",
       "      <th>3</th>\n",
       "      <td>USER-00004</td>\n",
       "      <td>25</td>\n",
       "      <td>Female</td>\n",
       "      <td>3.84</td>\n",
       "      <td>4.48</td>\n",
       "      <td>2.59</td>\n",
       "      <td>13.08</td>\n",
       "      <td>Excellent</td>\n",
       "      <td>Medium</td>\n",
       "      <td>5.62</td>\n",
       "      <td>5.28</td>\n",
       "      <td>Yes</td>\n",
       "      <td>Negative</td>\n",
       "      <td>Yes</td>\n",
       "      <td>18-29 ans</td>\n",
       "      <td>sportif</td>\n",
       "      <td>beaucoup</td>\n",
       "      <td>dormeur</td>\n",
       "    </tr>\n",
       "    <tr>\n",
       "      <th>4</th>\n",
       "      <td>USER-00005</td>\n",
       "      <td>53</td>\n",
       "      <td>Male</td>\n",
       "      <td>1.20</td>\n",
       "      <td>0.56</td>\n",
       "      <td>0.29</td>\n",
       "      <td>12.63</td>\n",
       "      <td>Good</td>\n",
       "      <td>Low</td>\n",
       "      <td>5.55</td>\n",
       "      <td>4.00</td>\n",
       "      <td>No</td>\n",
       "      <td>Positive</td>\n",
       "      <td>Yes</td>\n",
       "      <td>50-59 ans</td>\n",
       "      <td>peu sportif</td>\n",
       "      <td>beaucoup</td>\n",
       "      <td>dormeur</td>\n",
       "    </tr>\n",
       "  </tbody>\n",
       "</table>\n",
       "</div>"
      ],
      "text/plain": [
       "      User_ID  Age  Gender  Technology_Usage_Hours  Social_Media_Usage_Hours  \\\n",
       "0  USER-00001   23  Female                    6.57                      6.00   \n",
       "1  USER-00002   21    Male                    3.01                      2.57   \n",
       "2  USER-00003   51    Male                    3.04                      6.14   \n",
       "3  USER-00004   25  Female                    3.84                      4.48   \n",
       "4  USER-00005   53    Male                    1.20                      0.56   \n",
       "\n",
       "   Gaming_Hours  Screen_Time_Hours Mental_Health_Status Stress_Level  \\\n",
       "0          0.68              12.36                 Good          Low   \n",
       "1          3.74               7.61                 Poor         High   \n",
       "2          1.26               3.16                 Fair         High   \n",
       "3          2.59              13.08            Excellent       Medium   \n",
       "4          0.29              12.63                 Good          Low   \n",
       "\n",
       "   Sleep_Hours  Physical_Activity_Hours Support_Systems_Access  \\\n",
       "0         8.01                     6.71                     No   \n",
       "1         7.28                     5.88                    Yes   \n",
       "2         8.04                     9.81                     No   \n",
       "3         5.62                     5.28                    Yes   \n",
       "4         5.55                     4.00                     No   \n",
       "\n",
       "  Work_Environment_Impact Online_Support_Usage  Group_Age      Sportif  \\\n",
       "0                Negative                  Yes  18-29 ans      sportif   \n",
       "1                Positive                   No  18-29 ans      sportif   \n",
       "2                Negative                   No  50-59 ans      sportif   \n",
       "3                Negative                  Yes  18-29 ans      sportif   \n",
       "4                Positive                  Yes  50-59 ans  peu sportif   \n",
       "\n",
       "     Addict       Dormeur  \n",
       "0  beaucoup  gros dormeur  \n",
       "1      peu       dormeur   \n",
       "2       non  gros dormeur  \n",
       "3  beaucoup      dormeur   \n",
       "4  beaucoup      dormeur   "
      ]
     },
     "execution_count": 266,
     "metadata": {},
     "output_type": "execute_result"
    }
   ],
   "source": [
    "donnees.head(5)"
   ]
  },
  {
   "cell_type": "code",
   "execution_count": 260,
   "id": "7410a90b-1aeb-4c8b-8f10-4851a461b7c8",
   "metadata": {},
   "outputs": [
    {
     "data": {
      "text/html": [
       "<div>\n",
       "<style scoped>\n",
       "    .dataframe tbody tr th:only-of-type {\n",
       "        vertical-align: middle;\n",
       "    }\n",
       "\n",
       "    .dataframe tbody tr th {\n",
       "        vertical-align: top;\n",
       "    }\n",
       "\n",
       "    .dataframe thead th {\n",
       "        text-align: right;\n",
       "    }\n",
       "</style>\n",
       "<table border=\"1\" class=\"dataframe\">\n",
       "  <thead>\n",
       "    <tr style=\"text-align: right;\">\n",
       "      <th>Mental_Health_Status</th>\n",
       "      <th>Excellent</th>\n",
       "      <th>Fair</th>\n",
       "      <th>Good</th>\n",
       "      <th>Poor</th>\n",
       "    </tr>\n",
       "    <tr>\n",
       "      <th>Dormeur</th>\n",
       "      <th></th>\n",
       "      <th></th>\n",
       "      <th></th>\n",
       "      <th></th>\n",
       "    </tr>\n",
       "  </thead>\n",
       "  <tbody>\n",
       "    <tr>\n",
       "      <th>non dormeur</th>\n",
       "      <td>3</td>\n",
       "      <td>1</td>\n",
       "      <td>1</td>\n",
       "      <td>4</td>\n",
       "    </tr>\n",
       "    <tr>\n",
       "      <th>dormeur</th>\n",
       "      <td>2002</td>\n",
       "      <td>2002</td>\n",
       "      <td>2012</td>\n",
       "      <td>1958</td>\n",
       "    </tr>\n",
       "    <tr>\n",
       "      <th>gros dormeur</th>\n",
       "      <td>513</td>\n",
       "      <td>487</td>\n",
       "      <td>495</td>\n",
       "      <td>522</td>\n",
       "    </tr>\n",
       "  </tbody>\n",
       "</table>\n",
       "</div>"
      ],
      "text/plain": [
       "Mental_Health_Status  Excellent  Fair  Good  Poor\n",
       "Dormeur                                          \n",
       "non dormeur                   3     1     1     4\n",
       "dormeur                    2002  2002  2012  1958\n",
       "gros dormeur                513   487   495   522"
      ]
     },
     "execution_count": 260,
     "metadata": {},
     "output_type": "execute_result"
    }
   ],
   "source": [
    "crosstab = pd.crosstab(donnees['Dormeur'], donnees['Mental_Health_Status'])\n",
    "crosstab"
   ]
  },
  {
   "cell_type": "code",
   "execution_count": 262,
   "id": "8814ff42-6cb3-4204-8f7f-bc222c2f28c7",
   "metadata": {},
   "outputs": [
    {
     "data": {
      "text/html": [
       "<div>\n",
       "<style scoped>\n",
       "    .dataframe tbody tr th:only-of-type {\n",
       "        vertical-align: middle;\n",
       "    }\n",
       "\n",
       "    .dataframe tbody tr th {\n",
       "        vertical-align: top;\n",
       "    }\n",
       "\n",
       "    .dataframe thead th {\n",
       "        text-align: right;\n",
       "    }\n",
       "</style>\n",
       "<table border=\"1\" class=\"dataframe\">\n",
       "  <thead>\n",
       "    <tr style=\"text-align: right;\">\n",
       "      <th>Mental_Health_Status</th>\n",
       "      <th>Excellent</th>\n",
       "      <th>Fair</th>\n",
       "      <th>Good</th>\n",
       "      <th>Poor</th>\n",
       "    </tr>\n",
       "    <tr>\n",
       "      <th>Dormeur</th>\n",
       "      <th></th>\n",
       "      <th></th>\n",
       "      <th></th>\n",
       "      <th></th>\n",
       "    </tr>\n",
       "  </thead>\n",
       "  <tbody>\n",
       "    <tr>\n",
       "      <th>non dormeur</th>\n",
       "      <td>0.333333</td>\n",
       "      <td>0.111111</td>\n",
       "      <td>0.111111</td>\n",
       "      <td>0.444444</td>\n",
       "    </tr>\n",
       "    <tr>\n",
       "      <th>dormeur</th>\n",
       "      <td>0.251066</td>\n",
       "      <td>0.251066</td>\n",
       "      <td>0.252320</td>\n",
       "      <td>0.245548</td>\n",
       "    </tr>\n",
       "    <tr>\n",
       "      <th>gros dormeur</th>\n",
       "      <td>0.254338</td>\n",
       "      <td>0.241448</td>\n",
       "      <td>0.245414</td>\n",
       "      <td>0.258800</td>\n",
       "    </tr>\n",
       "  </tbody>\n",
       "</table>\n",
       "</div>"
      ],
      "text/plain": [
       "Mental_Health_Status  Excellent      Fair      Good      Poor\n",
       "Dormeur                                                      \n",
       "non dormeur            0.333333  0.111111  0.111111  0.444444\n",
       "dormeur                0.251066  0.251066  0.252320  0.245548\n",
       "gros dormeur           0.254338  0.241448  0.245414  0.258800"
      ]
     },
     "execution_count": 262,
     "metadata": {},
     "output_type": "execute_result"
    }
   ],
   "source": [
    "crosstab_pct = crosstab.div(crosstab.sum(axis=1), axis=0)\n",
    "crosstab_pct"
   ]
  },
  {
   "cell_type": "code",
   "execution_count": 264,
   "id": "82636a15-ab37-432e-8268-c26e358aa922",
   "metadata": {},
   "outputs": [
    {
     "data": {
      "image/png": "[encoded data removed]",
      "text/plain": [
       "<Figure size 640x480 with 2 Axes>"
      ]
     },
     "metadata": {},
     "output_type": "display_data"
    }
   ],
   "source": [
    "sns.heatmap(crosstab_pct, annot=True, fmt='.2%', cmap='coolwarm')\n",
    "plt.xlabel(\"État de santé mentale\")\n",
    "plt.ylabel(\"Heures de sommeil\")\n",
    "plt.title(\"Pourcentage d'individus par état de santé mentale et heures de sommeil\")\n",
    "plt.show()"
   ]
  },
  {
   "cell_type": "markdown",
   "id": "0e817174-fa73-4302-8608-0c5501bf0e4d",
   "metadata": {},
   "source": [
    "On peut constater que les personnes qui ont moins de 4 heures de sommeil ont plutôt une mauvaise santé mentale à 44,44%.\n",
    "Les personnes qui ont entre 4 et 7 heures de sommeil sont de santés mentales variables. \n",
    "Les personnes qui ont plus de 7 heures de sommeil sont de santés mentales également variables.\n",
    "On peut aussi voir que les personnes qui ont moins de 4 heures de sommeils sont aussi ceux qui ont une excellente santé mentale avec 33,33%. "
   ]
  },
  {
   "cell_type": "markdown",
   "id": "f40d452d-96a8-4548-af91-fae07aa68339",
   "metadata": {},
   "source": [
    "## Conclusion\n",
    "\n",
    "Nos analyses révèlent que les tranches d'âge les plus touchées par l'anxiété sont les 18-29 ans et les 40-49 ans. Bien que les 18-29 ans soient ceux qui dorment le moins, aucune corrélation significative n'a été établie entre le temps de sommeil, le temps passé sur les écrans, l'activité physique ou le niveau de stress et la santé mentale dans notre échantillon. Ces résultats suggèrent que d'autres facteurs, non étudiés ici, pourraient jouer un rôle plus important dans la santé mentale.\n",
    "\n",
    "\n",
    "Les jeunes adultes (18-29 ans) semblent particulièrement vulnérables, tant en termes de troubles du sommeil que d'anxiété. Cette tranche d'âge, fortement investie dans les nouvelles technologies, pourrait être plus sensible à leurs effets néfastes.\n",
    "L'absence de corrélation significative souligne l'importance d'autres facteurs, non mesurés dans notre étude, qui pourraient influencer le sommeil et la santé mentale. Ces facteurs peuvent être d'ordre biologique, psychologique ou social.\n",
    "\n",
    "L'utilisation des nouvelles technologies n'est pas un facteur isolé. Elle s'inscrit dans un contexte plus large, où interviennent des facteurs tels que le rythme de vie, les relations sociales, les événements de vie, etc. Ces facteurs peuvent moduler les effets des technologies sur le sommeil et le stress."
   ]
  }
 ],
 "metadata": {
  "kernelspec": {
   "display_name": "Python 3 (ipykernel)",
   "language": "python",
   "name": "python3"
  },
  "language_info": {
   "codemirror_mode": {
    "name": "ipython",
    "version": 3
   },
   "file_extension": ".py",
   "mimetype": "text/x-python",
   "name": "python",
   "nbconvert_exporter": "python",
   "pygments_lexer": "ipython3",
   "version": "3.12.4"
  }
 },
 "nbformat": 4,
 "nbformat_minor": 5
}
